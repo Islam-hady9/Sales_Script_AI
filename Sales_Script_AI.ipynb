{
 "cells": [
  {
   "cell_type": "markdown",
   "metadata": {},
   "source": [
    "### Step 1: Data Preparation\n",
    "You need to gather and structure your product specifications and customer requests."
   ]
  },
  {
   "cell_type": "markdown",
   "metadata": {},
   "source": [
    "### Step 2: Embedding Product Specifications and Storing in a Vector Database"
   ]
  },
  {
   "cell_type": "code",
   "execution_count": 1,
   "metadata": {},
   "outputs": [
    {
     "name": "stderr",
     "output_type": "stream",
     "text": [
      "c:\\Users\\smart\\anaconda3\\envs\\smartai_customersupport\\lib\\site-packages\\tqdm\\auto.py:21: TqdmWarning: IProgress not found. Please update jupyter and ipywidgets. See https://ipywidgets.readthedocs.io/en/stable/user_install.html\n",
      "  from .autonotebook import tqdm as notebook_tqdm\n"
     ]
    }
   ],
   "source": [
    "from sentence_transformers import SentenceTransformer\n",
    "import faiss\n",
    "import numpy as np\n",
    "\n",
    "# Load a pre-trained embedding model\n",
    "embedding_model = SentenceTransformer('all-MiniLM-L6-v2')\n",
    "\n",
    "# Example product specifications\n",
    "product_specs = [\n",
    "    \"High-quality leather shoes, durable and stylish, ideal for office wear.\",\n",
    "    \"Eco-friendly bamboo toothbrush, biodegradable and ergonomic design.\",\n",
    "    \"4K Ultra HD Smart TV, 55 inches, with built-in streaming apps.\"\n",
    "]\n",
    "\n",
    "# Create embeddings for the product specifications\n",
    "product_embeddings = embedding_model.encode(product_specs)\n",
    "\n",
    "# Create a FAISS index for similarity search\n",
    "d = product_embeddings.shape[1]  # Dimensionality of embeddings\n",
    "index = faiss.IndexFlatL2(d)  # L2 distance (Euclidean distance)\n",
    "index.add(np.array(product_embeddings))\n",
    "\n",
    "# Store the product specs and their corresponding embeddings\n",
    "product_database = {\n",
    "    \"specs\": product_specs,\n",
    "    \"embeddings\": product_embeddings,\n",
    "    \"index\": index\n",
    "}"
   ]
  },
  {
   "cell_type": "markdown",
   "metadata": {},
   "source": [
    "**Explanation**:\n",
    "1. **SentenceTransformer**: Loads a pre-trained model to convert text into embeddings.\n",
    "2. **product_specs**: A list of product descriptions.\n",
    "3. **embedding_model.encode**: Converts product descriptions into numerical embeddings.\n",
    "4. **faiss.IndexFlatL2**: Initializes a FAISS index for fast similarity search.\n",
    "5. **index.add**: Adds the embeddings to the FAISS index."
   ]
  },
  {
   "cell_type": "markdown",
   "metadata": {},
   "source": [
    "### Step 3: Processing Customer Requests and Retrieving Relevant Product Information"
   ]
  },
  {
   "cell_type": "code",
   "execution_count": 2,
   "metadata": {},
   "outputs": [
    {
     "name": "stdout",
     "output_type": "stream",
     "text": [
      "Retrieved Product Specification:  High-quality leather shoes, durable and stylish, ideal for office wear.\n"
     ]
    }
   ],
   "source": [
    "# Example customer request\n",
    "customer_request = \"I'm looking for a durable and stylish shoe for my office.\"\n",
    "\n",
    "# Encode the customer request\n",
    "customer_embedding = embedding_model.encode([customer_request])\n",
    "\n",
    "# Search the FAISS index for the most similar product spec\n",
    "D, I = product_database['index'].search(np.array(customer_embedding), k=1)\n",
    "\n",
    "# Retrieve the most relevant product spec\n",
    "retrieved_spec = product_database['specs'][I[0][0]]\n",
    "\n",
    "print(\"Retrieved Product Specification: \", retrieved_spec)"
   ]
  },
  {
   "cell_type": "markdown",
   "metadata": {},
   "source": [
    "**Explanation**:\n",
    "1. **customer_request**: An example of a customer's request.\n",
    "2. **embedding_model.encode**: Converts the customer's request into an embedding.\n",
    "3. **index.search**: Searches the FAISS index for the closest product specification embedding.\n",
    "4. **retrieved_spec**: Retrieves the product specification that best matches the customer’s request."
   ]
  },
  {
   "cell_type": "markdown",
   "metadata": {},
   "source": [
    "### Step 4: Generating a Marketing Script with a Pre-trained Language Model"
   ]
  },
  {
   "cell_type": "code",
   "execution_count": 3,
   "metadata": {},
   "outputs": [
    {
     "name": "stderr",
     "output_type": "stream",
     "text": [
      "c:\\Users\\smart\\anaconda3\\envs\\smartai_customersupport\\lib\\site-packages\\huggingface_hub\\file_download.py:1150: FutureWarning: `resume_download` is deprecated and will be removed in version 1.0.0. Downloads always resume when possible. If you want to force a new download, use `force_download=True`.\n",
      "  warnings.warn(\n",
      "Xformers is not installed correctly. If you want to use memory_efficient_attention to accelerate training use the following command to install Xformers\n",
      "pip install xformers.\n",
      "Setting `pad_token_id` to `eos_token_id`:50256 for open-end generation.\n"
     ]
    },
    {
     "name": "stdout",
     "output_type": "stream",
     "text": [
      "Generated Marketing Script:  Customer is looking for: I'm looking for a durable and stylish shoe for my office.\n",
      "Product Specification: High-quality leather shoes, durable and stylish, ideal for office wear.\n",
      "\n",
      "Generate a marketing script to convince the customer to buy this product:\n",
      "\n",
      "1. Identify your target customers. (The best way for these customers to create your message is to target them directly or by simply asking them.)\n",
      "\n",
      "2. Use them to convince you of the quality of the\n"
     ]
    }
   ],
   "source": [
    "from transformers import pipeline\n",
    "\n",
    "# Load a pre-trained language generation model (e.g., GPT-2 or similar)\n",
    "text_generator = pipeline('text-generation', model='gpt2')\n",
    "\n",
    "# Combine the retrieved product spec with the customer request\n",
    "input_text = f\"Customer is looking for: {customer_request}\\nProduct Specification: {retrieved_spec}\\n\\nGenerate a marketing script to convince the customer to buy this product:\"\n",
    "\n",
    "# Generate a marketing script\n",
    "generated_script = text_generator(input_text, max_length=100, num_return_sequences=1)[0]['generated_text']\n",
    "\n",
    "print(\"Generated Marketing Script: \", generated_script)"
   ]
  },
  {
   "cell_type": "markdown",
   "metadata": {},
   "source": [
    "**Explanation**:\n",
    "1. **pipeline('text-generation')**: Loads a pre-trained text generation model.\n",
    "2. **input_text**: Combines the customer's request with the retrieved product specification to form the input for the text generation model.\n",
    "3. **text_generator**: Generates a marketing script based on the input text."
   ]
  },
  {
   "cell_type": "markdown",
   "metadata": {},
   "source": [
    "### Step 5: Putting It All Together"
   ]
  },
  {
   "cell_type": "code",
   "execution_count": 4,
   "metadata": {},
   "outputs": [
    {
     "name": "stderr",
     "output_type": "stream",
     "text": [
      "Setting `pad_token_id` to `eos_token_id`:50256 for open-end generation.\n"
     ]
    },
    {
     "name": "stdout",
     "output_type": "stream",
     "text": [
      "Generated Script:  Customer is looking for: I need a new toothbrush that's eco-friendly.\n",
      "Product Specification: Eco-friendly bamboo toothbrush, biodegradable and ergonomic design.\n",
      "\n",
      "Generate a marketing script to convince the customer to buy this product: How to promote the product to customers at your site.\n",
      "\n",
      "What's this thing out there worth telling your customers: Get this product before there are any changes in your existing products.\n",
      "\n",
      "Product Cost Survey – What is this\n"
     ]
    }
   ],
   "source": [
    "def generate_marketing_script(customer_request):\n",
    "    # Encode the customer request\n",
    "    customer_embedding = embedding_model.encode([customer_request])\n",
    "    \n",
    "    # Search for the most relevant product specification\n",
    "    D, I = product_database['index'].search(np.array(customer_embedding), k=1)\n",
    "    retrieved_spec = product_database['specs'][I[0][0]]\n",
    "    \n",
    "    # Prepare the input for the text generation model\n",
    "    input_text = f\"Customer is looking for: {customer_request}\\nProduct Specification: {retrieved_spec}\\n\\nGenerate a marketing script to convince the customer to buy this product:\"\n",
    "    \n",
    "    # Generate the marketing script\n",
    "    generated_script = text_generator(input_text, max_length=100, num_return_sequences=1)[0]['generated_text']\n",
    "    \n",
    "    return generated_script\n",
    "\n",
    "# Example usage\n",
    "customer_request = \"I need a new toothbrush that's eco-friendly.\"\n",
    "script = generate_marketing_script(customer_request)\n",
    "print(\"Generated Script: \", script)"
   ]
  },
  {
   "cell_type": "markdown",
   "metadata": {},
   "source": [
    "**Explanation**:\n",
    "1. **generate_marketing_script**: A function that takes a customer request, retrieves the relevant product specification, and generates a marketing script.\n",
    "2. **Example usage**: Demonstrates how the function can be used to generate a script for a given customer request."
   ]
  },
  {
   "cell_type": "markdown",
   "metadata": {},
   "source": [
    "### Conclusion\n",
    "This example provides a foundational approach to building a marketing model that combines product specifications with customer requests to generate persuasive marketing scripts. You can expand on this by fine-tuning the LLM on specific marketing data, improving the RAG method, or deploying the model in a production environment."
   ]
  }
 ],
 "metadata": {
  "kernelspec": {
   "display_name": "smartai_customersupport",
   "language": "python",
   "name": "python3"
  },
  "language_info": {
   "codemirror_mode": {
    "name": "ipython",
    "version": 3
   },
   "file_extension": ".py",
   "mimetype": "text/x-python",
   "name": "python",
   "nbconvert_exporter": "python",
   "pygments_lexer": "ipython3",
   "version": "3.8.19"
  }
 },
 "nbformat": 4,
 "nbformat_minor": 2
}
